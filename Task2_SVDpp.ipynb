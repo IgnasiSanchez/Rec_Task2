{
 "cells": [
  {
   "cell_type": "code",
   "execution_count": 1,
   "metadata": {},
   "outputs": [
    {
     "data": {
      "application/javascript": [
       "IPython.notebook.set_autosave_interval(150000)"
      ]
     },
     "metadata": {},
     "output_type": "display_data"
    },
    {
     "name": "stdout",
     "output_type": "stream",
     "text": [
      "Autosaving every 150 seconds\n"
     ]
    }
   ],
   "source": [
    "%autosave 150\n",
    "%matplotlib inline\n",
    "import pandas as pd\n",
    "import numpy as np\n",
    "import math\n",
    "import matplotlib.pylab as plt"
   ]
  },
  {
   "cell_type": "markdown",
   "metadata": {},
   "source": [
    "# Load Data"
   ]
  },
  {
   "cell_type": "code",
   "execution_count": 2,
   "metadata": {},
   "outputs": [],
   "source": [
    "def load_movielens_100k():\n",
    "    # Load users\n",
    "    u_cols = ['user_id', 'age', 'sex', 'occupation', 'zip_code']\n",
    "    users = pd.read_csv('data/ml-100k/u.user', sep='|', names=u_cols)\n",
    "\n",
    "    # load ratings\n",
    "    r_cols = ['user_id', 'movie_id', 'rating', 'unix_timestamp']\n",
    "    ratings = pd.read_csv('data/ml-100k/u.data', sep='\\t', names=r_cols)\n",
    "\n",
    "    # Load movies\n",
    "    m_cols = ['movie_id', 'title', 'release_date']\n",
    "    movies = pd.read_csv('data/ml-100k/u.item', sep='|', names=m_cols, usecols=range(3), encoding='latin-1')\n",
    "\n",
    "    # Join dataframes\n",
    "    data = pd.merge(pd.merge(ratings, users), movies)\n",
    "    data = data[['user_id','title', 'movie_id','rating','release_date','sex','age']]\n",
    "\n",
    "\n",
    "    print(\"The DB has \"+ str(data.shape[0]) +\" ratings\")\n",
    "    print(\"The DB has \", data.user_id.nunique(),\" users\")\n",
    "    print(\"The DB has \", data.movie_id.nunique(), \" movies\")\n",
    "    print(data.head())\n",
    "    \n",
    "    return data, users, ratings, movies\n",
    "\n",
    "def load_movielens_1M():\n",
    "    # Load users\n",
    "    u_cols = ['user_id', 'age', 'sex', 'occupation', 'zip_code']\n",
    "    users = pd.read_csv('data/ml-1m/users.dat', sep='::', names=u_cols)\n",
    "\n",
    "    # Load ratings\n",
    "    r_cols = ['user_id', 'movie_id', 'rating', 'unix_timestamp']\n",
    "    ratings = pd.read_csv('data/ml-1m/ratings.dat', sep='::', names=r_cols)\n",
    "\n",
    "    # Load movies\n",
    "    m_cols = ['movie_id', 'title', 'release_date']\n",
    "    movies = pd.read_csv('data/ml-1m/movies.dat', sep='::', names=m_cols, usecols=range(3), encoding='latin-1')\n",
    "\n",
    "    # Join dataframes\n",
    "    data = pd.merge(pd.merge(ratings, users), movies)\n",
    "    data = data[['user_id','title', 'movie_id','rating','release_date','sex','age']]\n",
    "\n",
    "\n",
    "    print(\"The DB has \"+ str(data.shape[0]) +\" ratings\")\n",
    "    print(\"The DB has \", data.user_id.nunique(),\" users\")\n",
    "    print(\"The DB has \", data.movie_id.nunique(), \" movies\")\n",
    "    print(data.head())\n",
    "    \n",
    "    return data, users, ratings, movies"
   ]
  },
  {
   "cell_type": "markdown",
   "metadata": {},
   "source": [
    "# Matrix Factorization based"
   ]
  },
  {
   "cell_type": "code",
   "execution_count": 3,
   "metadata": {},
   "outputs": [
    {
     "name": "stderr",
     "output_type": "stream",
     "text": [
      "E:\\Programs\\Anaconda\\lib\\site-packages\\ipykernel_launcher.py:29: ParserWarning: Falling back to the 'python' engine because the 'c' engine does not support regex separators (separators > 1 char and different from '\\s+' are interpreted as regex); you can avoid this warning by specifying engine='python'.\n",
      "E:\\Programs\\Anaconda\\lib\\site-packages\\ipykernel_launcher.py:33: ParserWarning: Falling back to the 'python' engine because the 'c' engine does not support regex separators (separators > 1 char and different from '\\s+' are interpreted as regex); you can avoid this warning by specifying engine='python'.\n",
      "E:\\Programs\\Anaconda\\lib\\site-packages\\ipykernel_launcher.py:37: ParserWarning: Falling back to the 'python' engine because the 'c' engine does not support regex separators (separators > 1 char and different from '\\s+' are interpreted as regex); you can avoid this warning by specifying engine='python'.\n"
     ]
    },
    {
     "name": "stdout",
     "output_type": "stream",
     "text": [
      "The DB has 1000209 ratings\n",
      "The DB has  6040  users\n",
      "The DB has  3706  movies\n",
      "   user_id                                   title  movie_id  rating  \\\n",
      "0        1  One Flew Over the Cuckoo's Nest (1975)      1193       5   \n",
      "1        2  One Flew Over the Cuckoo's Nest (1975)      1193       5   \n",
      "2       12  One Flew Over the Cuckoo's Nest (1975)      1193       4   \n",
      "3       15  One Flew Over the Cuckoo's Nest (1975)      1193       4   \n",
      "4       17  One Flew Over the Cuckoo's Nest (1975)      1193       5   \n",
      "\n",
      "  release_date  sex age  \n",
      "0        Drama    1   F  \n",
      "1        Drama   56   M  \n",
      "2        Drama   25   M  \n",
      "3        Drama   25   M  \n",
      "4        Drama   50   M  \n"
     ]
    }
   ],
   "source": [
    "data, users, ratings, movies = load_movielens_1M()"
   ]
  },
  {
   "cell_type": "code",
   "execution_count": 4,
   "metadata": {},
   "outputs": [],
   "source": [
    "user_item_matrix = data.pivot(index='user_id', columns='movie_id', values='rating')"
   ]
  },
  {
   "cell_type": "code",
   "execution_count": 5,
   "metadata": {},
   "outputs": [],
   "source": [
    "from sklearn.model_selection import train_test_split\n",
    "\n",
    "train, test = train_test_split(data, test_size=0.2, random_state=42)\n",
    "\n",
    "user_item_matrix_train = train.pivot(index='user_id', columns='movie_id', values='rating')\n",
    "user_item_matrix_test = test.pivot(index='user_id', columns='movie_id', values='rating')"
   ]
  },
  {
   "cell_type": "code",
   "execution_count": 7,
   "metadata": {},
   "outputs": [
    {
     "data": {
      "text/plain": [
       "((6040, 3683), (6040, 3706))"
      ]
     },
     "execution_count": 7,
     "metadata": {},
     "output_type": "execute_result"
    }
   ],
   "source": [
    "user_item_matrix_train.shape, user_item_matrix.shape"
   ]
  },
  {
   "cell_type": "code",
   "execution_count": 6,
   "metadata": {},
   "outputs": [],
   "source": [
    "u2idx = {u:idx for idx,u in enumerate(user_item_matrix.index.values)}\n",
    "idx2u = {idx:u for idx,u in enumerate(user_item_matrix.index.values)}\n",
    "i2idx = {i:idx for idx,i in enumerate(user_item_matrix.columns.values)} \n",
    "idx2i = {idx:i for idx,i in enumerate(user_item_matrix.columns.values)}"
   ]
  },
  {
   "cell_type": "markdown",
   "metadata": {},
   "source": [
    "### SVD++"
   ]
  },
  {
   "cell_type": "code",
   "execution_count": 8,
   "metadata": {},
   "outputs": [],
   "source": [
    "#items rated by user u\n",
    "R_u = {u:user_item_matrix.columns[~user_item_matrix.loc[u].isna()] for u in user_item_matrix.index.values}\n",
    "R_u_idx = {u:user_item_matrix.columns.isin(R_u[u]) for u in R_u.keys()}"
   ]
  },
  {
   "cell_type": "code",
   "execution_count": 9,
   "metadata": {},
   "outputs": [],
   "source": [
    "bu = np.load('saved/svdpp/bu.npy')\n",
    "bi = np.load('saved/svdpp/bi.npy')\n",
    "pu = np.load('saved/svdpp/pu.npy')\n",
    "qi = np.load('saved/svdpp/qi.npy')\n",
    "yj = np.load('saved/svdpp/yj.npy')\n",
    "\n",
    "mu = user_item_matrix.mean().mean()"
   ]
  },
  {
   "cell_type": "code",
   "execution_count": 10,
   "metadata": {},
   "outputs": [],
   "source": [
    "def SVDpp_naive(user_item_matrix):\n",
    "    #R_u = {u:user_item_matrix.columns[~user_item_matrix.loc[u].isna()] for u in user_item_matrix.index.values}\n",
    "    #R_u_idx = {u:user_item_matrix.columns.isin(R_u[u]) for u in R_u.keys()}\n",
    "    #hyperparams\n",
    "    init_mu = 0\n",
    "    init_sigma = 0.1\n",
    "    latent_dim = 200\n",
    "    n_epochs = 1\n",
    "    gamma = 0.007\n",
    "    lamb_bias = 0.02\n",
    "    lamb_latent = 0.02\n",
    "\n",
    "\n",
    "    #variables\n",
    "    bu = np.zeros(user_item_matrix.shape[0])\n",
    "    bi = np.zeros(user_item_matrix.shape[1])\n",
    "    pu = np.random.normal(init_mu, init_sigma, (user_item_matrix.shape[0], latent_dim))\n",
    "    qi = np.random.normal(init_mu, init_sigma, (user_item_matrix.shape[1], latent_dim))\n",
    "    yj = np.random.normal(init_mu, init_sigma, (user_item_matrix.shape[1], latent_dim))\n",
    "    mu = user_item_matrix.mean().mean()\n",
    "\n",
    "\n",
    "    # algorithm\n",
    "    for epoch in range(n_epochs):\n",
    "        for i in user_item_matrix.columns.values:\n",
    "            for u in user_item_matrix[~user_item_matrix[i].isna()].index.values:\n",
    "                ii = i2idx[i]\n",
    "                uu = u2idx[u]\n",
    "                r = user_item_matrix[i].loc[u]\n",
    "\n",
    "                wt = np.sqrt(R_u[u].shape[0])\n",
    "                implicit_fbck = np.sum(yj[R_u_idx[u], :])/wt\n",
    "                err = r - (mu + bu[uu] + bi[ii] + np.dot(qi[ii, :].T, pu[uu,:] + implicit_fbck))\n",
    "\n",
    "                bu[uu] += gamma*(err-lamb_bias*bu[uu])\n",
    "                bi[ii] += gamma*(err-lamb_bias*bi[ii])\n",
    "\n",
    "                qi[ii,:] += gamma*(err*(pu[uu,:] + implicit_fbck) - lamb_latent*qi[ii,:])\n",
    "                pu[uu,:] += gamma*(err*qi[ii,:] - lamb_latent*pu[uu,:])\n",
    "                yj[ii,:] += gamma*(err/wt*qi[ii,:] - lamb_latent*yj[ii,:])"
   ]
  },
  {
   "cell_type": "code",
   "execution_count": 11,
   "metadata": {},
   "outputs": [],
   "source": [
    "def compute_SVDpp(user_item_matrix, R_u, R_u_idx, idx2u,    \n",
    "                  init_mu = 0,\n",
    "                  init_sigma = 0.1,\n",
    "                  latent_dim = 200,\n",
    "                  n_epochs = 20,\n",
    "                  gamma = 0.007,\n",
    "                  lamb_latent = 0.015,\n",
    "                  lamb_bias = 0.005):\n",
    "\n",
    "    na_mask = np.isnan(user_item_matrix)\n",
    "    \n",
    "    #variables\n",
    "    bu = np.zeros(user_item_matrix.shape[0])\n",
    "    bi = np.zeros(user_item_matrix.shape[1])\n",
    "    pu = np.random.normal(init_mu, init_sigma, (user_item_matrix.shape[0], latent_dim))\n",
    "    qi = np.random.normal(init_mu, init_sigma, (user_item_matrix.shape[1], latent_dim))\n",
    "    yj = np.random.normal(init_mu, init_sigma, (user_item_matrix.shape[1], latent_dim))\n",
    "    mu = np.nanmean(user_item_matrix)\n",
    "\n",
    "    np.seterr(all='print')\n",
    "\n",
    "    # algorithm\n",
    "    for epoch in range(n_epochs):\n",
    "        for i in range(user_item_matrix.shape[1]):\n",
    "            for u in np.where(~na_mask[:,i])[0]:\n",
    "                r = user_item_matrix[u,i]\n",
    "                Ru = R_u[idx2u[u]]\n",
    "                Ru_idx = R_u_idx[idx2u[u]]\n",
    "\n",
    "                wt = np.sqrt(Ru.shape[0])\n",
    "                implicit_fbck = np.sum(yj[Ru_idx,:])/wt\n",
    "                err = r - (mu + bu[u] + bi[i] + np.dot(qi[i, :].T, pu[u,:] + implicit_fbck))\n",
    "\n",
    "                if(np.isnan(err)):\n",
    "                    print(\"Overflow ocurred. Fiddle with the regularization parameters to avoid this!\")\n",
    "                    return\n",
    "\n",
    "                bu[u] += gamma*(err-lamb_bias*bu[u])\n",
    "                bi[i] += gamma*(err-lamb_bias*bi[i])\n",
    "\n",
    "                qi[i,:] += gamma*(err*pu[u,:]*(pu[u,:] + implicit_fbck) - lamb_latent*qi[i,:])\n",
    "                pu[u,:] += gamma*(err*qi[i,:] - lamb_latent*pu[u,:])\n",
    "                yj[i,:] += gamma*(err/wt*qi[i,:] - lamb_latent*yj[i,:])\n",
    "\n",
    "        return bu, bi, pu, qi, yj, mu"
   ]
  },
  {
   "cell_type": "markdown",
   "metadata": {},
   "source": [
    "##### Surprise code"
   ]
  },
  {
   "cell_type": "code",
   "execution_count": 32,
   "metadata": {},
   "outputs": [],
   "source": [
    "import surprise\n",
    "from surprise.prediction_algorithms.matrix_factorization import SVDpp\n",
    "from surprise import Dataset, Reader\n",
    "from surprise.model_selection import train_test_split"
   ]
  },
  {
   "cell_type": "code",
   "execution_count": 33,
   "metadata": {},
   "outputs": [],
   "source": [
    "reader = Reader(rating_scale=(1,5))\n",
    "data = Dataset.load_from_df(ratings[['user_id', 'movie_id', 'rating']], reader)\n",
    "trainset, testset = train_test_split(data, test_size=.25)"
   ]
  },
  {
   "cell_type": "code",
   "execution_count": 138,
   "metadata": {},
   "outputs": [
    {
     "name": "stdout",
     "output_type": "stream",
     "text": [
      "13min 1s ± 1min 59s per loop (mean ± std. dev. of 7 runs, 1 loop each)\n"
     ]
    }
   ],
   "source": [
    "algo = SVDpp(n_factors=200, n_epochs=1)\n",
    "%timeit algo.fit(trainset)"
   ]
  },
  {
   "cell_type": "markdown",
   "metadata": {},
   "source": [
    "##### Naive code with pandas implementation"
   ]
  },
  {
   "cell_type": "code",
   "execution_count": 68,
   "metadata": {},
   "outputs": [
    {
     "name": "stderr",
     "output_type": "stream",
     "text": [
      "E:\\Programs\\Anaconda\\lib\\site-packages\\ipykernel_launcher.py:39: RuntimeWarning: overflow encountered in multiply\n",
      "E:\\Programs\\Anaconda\\lib\\site-packages\\ipykernel_launcher.py:40: RuntimeWarning: overflow encountered in multiply\n",
      "E:\\Programs\\Anaconda\\lib\\site-packages\\ipykernel_launcher.py:40: RuntimeWarning: invalid value encountered in subtract\n",
      "E:\\Programs\\Anaconda\\lib\\site-packages\\ipykernel_launcher.py:38: RuntimeWarning: overflow encountered in multiply\n",
      "E:\\Programs\\Anaconda\\lib\\site-packages\\ipykernel_launcher.py:38: RuntimeWarning: invalid value encountered in add\n"
     ]
    },
    {
     "name": "stdout",
     "output_type": "stream",
     "text": [
      "5min 31s ± 14.3 s per loop (mean ± std. dev. of 7 runs, 1 loop each)\n"
     ]
    }
   ],
   "source": [
    "%timeit SVDpp_naive(user_item_matrix)"
   ]
  },
  {
   "cell_type": "markdown",
   "metadata": {},
   "source": [
    "##### Slightly more optimised with numpy"
   ]
  },
  {
   "cell_type": "code",
   "execution_count": 78,
   "metadata": {},
   "outputs": [
    {
     "name": "stderr",
     "output_type": "stream",
     "text": [
      "E:\\Programs\\Anaconda\\lib\\site-packages\\ipykernel_launcher.py:36: RuntimeWarning: overflow encountered in multiply\n",
      "E:\\Programs\\Anaconda\\lib\\site-packages\\numpy\\core\\fromnumeric.py:86: RuntimeWarning: invalid value encountered in reduce\n",
      "  return ufunc.reduce(obj, axis, dtype, out, **passkwargs)\n"
     ]
    },
    {
     "name": "stdout",
     "output_type": "stream",
     "text": [
      "4min 20s ± 15.2 s per loop (mean ± std. dev. of 7 runs, 1 loop each)\n"
     ]
    }
   ],
   "source": [
    "uim = user_item_matrix.to_numpy()\n",
    "%timeit compute_SVDpp(uim, n_epochs=1)"
   ]
  },
  {
   "cell_type": "markdown",
   "metadata": {},
   "source": [
    "###### Final"
   ]
  },
  {
   "cell_type": "code",
   "execution_count": 12,
   "metadata": {},
   "outputs": [],
   "source": [
    "u2idx_train = {u:idx for idx,u in enumerate(user_item_matrix_train.index.values)}\n",
    "idx2u_train = {idx:u for idx,u in enumerate(user_item_matrix_train.index.values)}\n",
    "i2idx_train = {i:idx for idx,i in enumerate(user_item_matrix_train.columns.values)} \n",
    "idx2i_train = {idx:i for idx,i in enumerate(user_item_matrix_train.columns.values)}\n",
    "R_u_train = {u:user_item_matrix_train.columns[~user_item_matrix_train.loc[u].isna()] for u in user_item_matrix_train.index.values}\n",
    "R_u_idx_train = {u:user_item_matrix_train.columns.isin(R_u[u]) for u in R_u.keys()}"
   ]
  },
  {
   "cell_type": "code",
   "execution_count": 41,
   "metadata": {},
   "outputs": [],
   "source": [
    "R_u_idx_train_mask = {}\n",
    "for u in user_item_matrix_train.index.values:\n",
    "    R_u_idx_train_mask[u] = np.zeros(user_item_matrix_train.columns.shape[0], dtype=np.bool)\n",
    "    R_u_idx_train_mask[u][R_u_idx_train[u]] = True"
   ]
  },
  {
   "cell_type": "code",
   "execution_count": 13,
   "metadata": {},
   "outputs": [],
   "source": [
    "uim = user_item_matrix_train.to_numpy()"
   ]
  },
  {
   "cell_type": "code",
   "execution_count": 14,
   "metadata": {},
   "outputs": [],
   "source": [
    "bu, bi, pu, qi, yj, mu = compute_SVDpp(uim, R_u_train, R_u_idx_train, idx2u_train)"
   ]
  },
  {
   "cell_type": "code",
   "execution_count": 15,
   "metadata": {},
   "outputs": [],
   "source": [
    "np.save('saved/svdpp/bu.npy', bu)\n",
    "np.save('saved/svdpp/bi.npy', bi)\n",
    "np.save('saved/svdpp/pu.npy', pu)\n",
    "np.save('saved/svdpp/qi.npy', qi)\n",
    "np.save('saved/svdpp/yj.npy', yj)"
   ]
  },
  {
   "cell_type": "markdown",
   "metadata": {},
   "source": [
    "##### Faster accesing yj[R_u]"
   ]
  },
  {
   "cell_type": "code",
   "execution_count": 82,
   "metadata": {},
   "outputs": [
    {
     "name": "stdout",
     "output_type": "stream",
     "text": [
      "12.9 µs ± 312 ns per loop (mean ± std. dev. of 7 runs, 100000 loops each)\n",
      "13.2 µs ± 423 ns per loop (mean ± std. dev. of 7 runs, 100000 loops each)\n"
     ]
    }
   ],
   "source": [
    "%timeit yj[R_u_idx_train_mask[1], :]\n",
    "%timeit yj[R_u_idx_train_mask[1]]\n",
    "%timeit yj[R_u_idx_train_mask[1]]\n",
    "%timeit yj[R_u_idx_train[1]]\n",
    "cols = np.arange(0,200)\n",
    "%timeit ix_ = np.ix_(R_u_idx_train[1], cols); yj[ix_]\n",
    "%timeit np.take(yj, R_u_idx_train[1], axis=0)\n",
    "\n",
    "R_u_idx_train_mask2 = {}\n",
    "for u in user_item_matrix_train.index.values:\n",
    "    R_u_idx_train_mask2[u] = np.zeros(yj.shape, dtype=np.bool)\n",
    "    R_u_idx_train_mask2[u][R_u_idx_train[u], :] = True\n",
    "%timeit yj[R_u_idx_train_mask2[1]]\n",
    "\n",
    "%timeit np.compress(R_u_idx_train_mask[1], yj, axis=0)\n",
    "\n",
    "newdict = {k: yj[R_u_idx_train[k]] for k in R_u_idx_train.keys()}\n",
    "%timeit newdict[1]"
   ]
  },
  {
   "cell_type": "code",
   "execution_count": 84,
   "metadata": {},
   "outputs": [],
   "source": [
    "faster_yj_dict = {k: yj[R_u_idx_train[k]] for k in R_u_idx_train.keys()}\n",
    "faster_yj_sum_dict = {k: np.sum(yj[R_u_idx_train[k]]) for k in R_u_idx_train.keys()}"
   ]
  },
  {
   "cell_type": "code",
   "execution_count": 85,
   "metadata": {},
   "outputs": [],
   "source": [
    "def predict(u, i):\n",
    "    # This is a nuance of using train/test split. Since our dataset is split by surprise, let's use their functions\n",
    "    uk = u in u2idx_train\n",
    "    ik = i in i2idx_train\n",
    "    \n",
    "    r_hat = mu\n",
    "    \n",
    "    if uk:\n",
    "        uu = u2idx_train[u]\n",
    "        r_hat += bu[uu]\n",
    "    \n",
    "    if ik: \n",
    "        ii = i2idx_train[i]\n",
    "        r_hat += bi[ii]\n",
    "    \n",
    "    if uk and ik:\n",
    "        Ru = R_u_train[u]\n",
    "\n",
    "        wt = np.sqrt(Ru.shape[0])\n",
    "        implicit_fbck = faster_yj_sum_dict[u]/wt\n",
    "        r_hat += np.dot(qi[ii, :].T, pu[uu,:] + implicit_fbck)\n",
    "    \n",
    "    return r_hat"
   ]
  },
  {
   "cell_type": "code",
   "execution_count": 17,
   "metadata": {},
   "outputs": [
    {
     "data": {
      "text/plain": [
       "3.673549282138054"
      ]
     },
     "execution_count": 17,
     "metadata": {},
     "output_type": "execute_result"
    }
   ],
   "source": [
    "predict(10,2)"
   ]
  },
  {
   "cell_type": "markdown",
   "metadata": {},
   "source": [
    "##### Rank"
   ]
  },
  {
   "cell_type": "code",
   "execution_count": 22,
   "metadata": {},
   "outputs": [],
   "source": [
    "from tqdm.notebook import tqdm"
   ]
  },
  {
   "cell_type": "code",
   "execution_count": 18,
   "metadata": {},
   "outputs": [],
   "source": [
    "to_test = [x[0:2].tolist() for x in test[['user_id', 'movie_id', 'rating']].to_numpy() if x[2] == 5.0]"
   ]
  },
  {
   "cell_type": "code",
   "execution_count": 89,
   "metadata": {},
   "outputs": [],
   "source": [
    "def precision_at_N(N):\n",
    "    hits = 0\n",
    "    na_mask = user_item_matrix_train.isna().to_numpy()\n",
    "    for u,i in to_test:\n",
    "        candidate_unseen_movies = np.where(na_mask[u2idx[u],:])[0]\n",
    "        candidate_unseen_movies = np.random.choice(candidate_unseen_movies, size=100, replace=False)\n",
    "        candidate_unseen_movies = np.unique(np.append(candidate_unseen_movies, i2idx[i]))\n",
    "        unseen_movies_order_idx = np.argsort([predict(u,idx2i[ii]) for ii in candidate_unseen_movies])[::-1]\n",
    "        sorted_unseen_movies = candidate_unseen_movies[unseen_movies_order_idx]\n",
    "        p = np.where(sorted_unseen_movies == i2idx[i])[0]\n",
    "        hits += p<=N\n",
    "    recall_N = hits/len(to_test)\n",
    "    precision_N = recall_N/(N+1)\n",
    "    return recall_N, precision_N"
   ]
  },
  {
   "cell_type": "code",
   "execution_count": 90,
   "metadata": {},
   "outputs": [
    {
     "data": {
      "application/vnd.jupyter.widget-view+json": {
       "model_id": "1346065818764323852e4a346da47758",
       "version_major": 2,
       "version_minor": 0
      },
      "text/plain": [
       "HBox(children=(FloatProgress(value=0.0, max=20.0), HTML(value='')))"
      ]
     },
     "metadata": {},
     "output_type": "display_data"
    },
    {
     "name": "stdout",
     "output_type": "stream",
     "text": [
      "\n"
     ]
    }
   ],
   "source": [
    "scores = []\n",
    "for N in tqdm(range(1,21)):\n",
    "    scores.append(precision_at_N(N))\n",
    "\n",
    "prec = [x[1] for x in scores]\n",
    "rec = [x[0] for x in scores]"
   ]
  },
  {
   "cell_type": "code",
   "execution_count": 91,
   "metadata": {},
   "outputs": [
    {
     "data": {
      "text/plain": [
       "[]"
      ]
     },
     "execution_count": 91,
     "metadata": {},
     "output_type": "execute_result"
    },
    {
     "data": {
      "image/png": "[encoded data removed]",
      "text/plain": [
       "<Figure size 1440x720 with 2 Axes>"
      ]
     },
     "metadata": {
      "needs_background": "light"
     },
     "output_type": "display_data"
    }
   ],
   "source": [
    "plt.figure(figsize=(20,10))\n",
    "\n",
    "ax = plt.subplot(1,2,1)\n",
    "ax.plot(np.linspace(1,21,num=20), rec, 'c-')\n",
    "ax.set_xlabel('N')\n",
    "ax.set_ylabel('recall(N)')\n",
    "ax.set_title('Recall')\n",
    "\n",
    "ax = plt.subplot(1,2,2)\n",
    "ax.plot(rec, prec, 'c-')\n",
    "ax.set_xlabel('recall')\n",
    "ax.set_ylabel('precision')\n",
    "ax.set_title('Precision vs recall')\n",
    "\n",
    "plt.plot()"
   ]
  },
  {
   "cell_type": "code",
   "execution_count": null,
   "metadata": {},
   "outputs": [],
   "source": []
  }
 ],
 "metadata": {
  "kernelspec": {
   "display_name": "Python 3",
   "language": "python",
   "name": "python3"
  },
  "language_info": {
   "codemirror_mode": {
    "name": "ipython",
    "version": 3
   },
   "file_extension": ".py",
   "mimetype": "text/x-python",
   "name": "python",
   "nbconvert_exporter": "python",
   "pygments_lexer": "ipython3",
   "version": "3.7.3"
  }
 },
 "nbformat": 4,
 "nbformat_minor": 2
}
