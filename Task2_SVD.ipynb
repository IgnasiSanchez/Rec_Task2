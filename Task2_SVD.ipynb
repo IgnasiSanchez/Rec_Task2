{
 "cells": [
  {
   "cell_type": "code",
   "execution_count": 1,
   "metadata": {},
   "outputs": [
    {
     "data": {
      "application/javascript": [
       "IPython.notebook.set_autosave_interval(150000)"
      ]
     },
     "metadata": {},
     "output_type": "display_data"
    },
    {
     "name": "stdout",
     "output_type": "stream",
     "text": [
      "Autosaving every 150 seconds\n"
     ]
    }
   ],
   "source": [
    "%autosave 150\n",
    "%matplotlib inline\n",
    "import pandas as pd\n",
    "import numpy as np\n",
    "import math\n",
    "import matplotlib.pylab as plt"
   ]
  },
  {
   "cell_type": "markdown",
   "metadata": {},
   "source": [
    "# Load Data"
   ]
  },
  {
   "cell_type": "code",
   "execution_count": 2,
   "metadata": {},
   "outputs": [],
   "source": [
    "def load_movielens_100k():\n",
    "    # Load users\n",
    "    u_cols = ['user_id', 'age', 'sex', 'occupation', 'zip_code']\n",
    "    users = pd.read_csv('data/ml-100k/u.user', sep='|', names=u_cols)\n",
    "\n",
    "    # load ratings\n",
    "    r_cols = ['user_id', 'movie_id', 'rating', 'unix_timestamp']\n",
    "    ratings = pd.read_csv('data/ml-100k/u.data', sep='\\t', names=r_cols)\n",
    "\n",
    "    # Load movies\n",
    "    m_cols = ['movie_id', 'title', 'release_date']\n",
    "    movies = pd.read_csv('data/ml-100k/u.item', sep='|', names=m_cols, usecols=range(3), encoding='latin-1')\n",
    "\n",
    "    # Join dataframes\n",
    "    data = pd.merge(pd.merge(ratings, users), movies)\n",
    "    data = data[['user_id','title', 'movie_id','rating','release_date','sex','age']]\n",
    "\n",
    "\n",
    "    print(\"The DB has \"+ str(data.shape[0]) +\" ratings\")\n",
    "    print(\"The DB has \", data.user_id.nunique(),\" users\")\n",
    "    print(\"The DB has \", data.movie_id.nunique(), \" movies\")\n",
    "    print(data.head())\n",
    "    \n",
    "    return data, users, ratings, movies\n",
    "\n",
    "def load_movielens_1M():\n",
    "    # Load users\n",
    "    u_cols = ['user_id', 'age', 'sex', 'occupation', 'zip_code']\n",
    "    users = pd.read_csv('data/ml-1m/users.dat', sep='::', names=u_cols)\n",
    "\n",
    "    # Load ratings\n",
    "    r_cols = ['user_id', 'movie_id', 'rating', 'unix_timestamp']\n",
    "    ratings = pd.read_csv('data/ml-1m/ratings.dat', sep='::', names=r_cols)\n",
    "\n",
    "    # Load movies\n",
    "    m_cols = ['movie_id', 'title', 'release_date']\n",
    "    movies = pd.read_csv('data/ml-1m/movies.dat', sep='::', names=m_cols, usecols=range(3), encoding='latin-1')\n",
    "\n",
    "    # Join dataframes\n",
    "    data = pd.merge(pd.merge(ratings, users), movies)\n",
    "    data = data[['user_id','title', 'movie_id','rating','release_date','sex','age']]\n",
    "\n",
    "\n",
    "    print(\"The DB has \"+ str(data.shape[0]) +\" ratings\")\n",
    "    print(\"The DB has \", data.user_id.nunique(),\" users\")\n",
    "    print(\"The DB has \", data.movie_id.nunique(), \" movies\")\n",
    "    print(data.head())\n",
    "    \n",
    "    return data, users, ratings, movies"
   ]
  },
  {
   "cell_type": "markdown",
   "metadata": {},
   "source": [
    "# Missing value treatment"
   ]
  },
  {
   "cell_type": "code",
   "execution_count": 3,
   "metadata": {},
   "outputs": [],
   "source": [
    "from sklearn.impute import KNNImputer\n",
    "\n",
    "def impute_missing_values(df, method=\"mean\", **params):\n",
    "    if method == \"mean\":\n",
    "        return df.mean(), df.fillna(df.mean())\n",
    "    elif method == \"median\":\n",
    "        return df.median(), df.fillna(df.median())\n",
    "    elif method == \"KNN\":\n",
    "        knnimputer = KNNImputer(**params)\n",
    "        knnimputer.fit(df)\n",
    "        return knnimputer, knnimputer.transform(df)  "
   ]
  },
  {
   "cell_type": "markdown",
   "metadata": {},
   "source": [
    "# Matrix Factorization based"
   ]
  },
  {
   "cell_type": "code",
   "execution_count": 4,
   "metadata": {},
   "outputs": [
    {
     "name": "stderr",
     "output_type": "stream",
     "text": [
      "E:\\Programs\\Anaconda\\lib\\site-packages\\ipykernel_launcher.py:29: ParserWarning: Falling back to the 'python' engine because the 'c' engine does not support regex separators (separators > 1 char and different from '\\s+' are interpreted as regex); you can avoid this warning by specifying engine='python'.\n",
      "E:\\Programs\\Anaconda\\lib\\site-packages\\ipykernel_launcher.py:33: ParserWarning: Falling back to the 'python' engine because the 'c' engine does not support regex separators (separators > 1 char and different from '\\s+' are interpreted as regex); you can avoid this warning by specifying engine='python'.\n",
      "E:\\Programs\\Anaconda\\lib\\site-packages\\ipykernel_launcher.py:37: ParserWarning: Falling back to the 'python' engine because the 'c' engine does not support regex separators (separators > 1 char and different from '\\s+' are interpreted as regex); you can avoid this warning by specifying engine='python'.\n"
     ]
    },
    {
     "name": "stdout",
     "output_type": "stream",
     "text": [
      "The DB has 1000209 ratings\n",
      "The DB has  6040  users\n",
      "The DB has  3706  movies\n",
      "   user_id                                   title  movie_id  rating  \\\n",
      "0        1  One Flew Over the Cuckoo's Nest (1975)      1193       5   \n",
      "1        2  One Flew Over the Cuckoo's Nest (1975)      1193       5   \n",
      "2       12  One Flew Over the Cuckoo's Nest (1975)      1193       4   \n",
      "3       15  One Flew Over the Cuckoo's Nest (1975)      1193       4   \n",
      "4       17  One Flew Over the Cuckoo's Nest (1975)      1193       5   \n",
      "\n",
      "  release_date  sex age  \n",
      "0        Drama    1   F  \n",
      "1        Drama   56   M  \n",
      "2        Drama   25   M  \n",
      "3        Drama   25   M  \n",
      "4        Drama   50   M  \n"
     ]
    }
   ],
   "source": [
    "data, users, ratings, movies = load_movielens_1M()"
   ]
  },
  {
   "cell_type": "code",
   "execution_count": 5,
   "metadata": {},
   "outputs": [],
   "source": [
    "user_item_matrix = data.pivot(index='user_id', columns='movie_id', values='rating')\n",
    "na_mask = user_item_matrix.isna().to_numpy()\n",
    "imputer, imputed_uim = impute_missing_values(user_item_matrix, method=\"mean\")"
   ]
  },
  {
   "cell_type": "code",
   "execution_count": 6,
   "metadata": {},
   "outputs": [],
   "source": [
    "from sklearn.model_selection import train_test_split\n",
    "\n",
    "train, test = train_test_split(data, test_size=0.2, random_state=42)\n",
    "\n",
    "user_item_matrix_train = train.pivot(index='user_id', columns='movie_id', values='rating')\n",
    "user_item_matrix_test = test.pivot(index='user_id', columns='movie_id', values='rating')"
   ]
  },
  {
   "cell_type": "code",
   "execution_count": 7,
   "metadata": {},
   "outputs": [],
   "source": [
    "u2idx = {u:idx for idx,u in enumerate(user_item_matrix.index.values)}\n",
    "idx2u = {idx:u for idx,u in enumerate(user_item_matrix.index.values)}\n",
    "i2idx = {i:idx for idx,i in enumerate(user_item_matrix.columns.values)} \n",
    "idx2i = {idx:i for idx,i in enumerate(user_item_matrix.columns.values)}"
   ]
  },
  {
   "cell_type": "code",
   "execution_count": 8,
   "metadata": {},
   "outputs": [
    {
     "data": {
      "text/plain": [
       "(6040, 3706)"
      ]
     },
     "execution_count": 8,
     "metadata": {},
     "output_type": "execute_result"
    }
   ],
   "source": [
    "imputed_uim.shape"
   ]
  },
  {
   "cell_type": "markdown",
   "metadata": {},
   "source": [
    "### SVD missing value iteration"
   ]
  },
  {
   "cell_type": "code",
   "execution_count": 25,
   "metadata": {},
   "outputs": [],
   "source": [
    "from scipy.linalg import svd"
   ]
  },
  {
   "cell_type": "code",
   "execution_count": 43,
   "metadata": {},
   "outputs": [],
   "source": [
    "R_f = imputed_uim\n",
    "U,s,Vt = svd(imputed_uim, full_matrices=False)\n",
    "tmp = U.dot(np.diag(s)).dot(Vt)\n",
    "R_f_1 = R_f.copy()\n",
    "R_f_1[na_mask] = tmp"
   ]
  },
  {
   "cell_type": "code",
   "execution_count": 47,
   "metadata": {},
   "outputs": [
    {
     "name": "stdout",
     "output_type": "stream",
     "text": [
      "2.160528189879166e-11\n",
      "2.14062854616419e-11\n",
      "2.4900543836719436e-11\n",
      "2.125893946197836e-11\n",
      "2.2149406293781588e-11\n",
      "2.3554143303590684e-11\n",
      "2.165646015803868e-11\n",
      "2.286399278977073e-11\n",
      "2.2294015466695682e-11\n",
      "2.1922060896382743e-11\n"
     ]
    }
   ],
   "source": [
    "for i in range(10):\n",
    "    R_f = R_f_1.copy()\n",
    "    U,s,Vt = svd(R_f_1, full_matrices=False)\n",
    "    tmp = U.dot(np.diag(s)).dot(Vt)\n",
    "    R_f_1[na_mask] = tmp\n",
    "    print(np.linalg.norm(R_f - R_f_1))"
   ]
  },
  {
   "cell_type": "markdown",
   "metadata": {},
   "source": [
    "### Classic SVD"
   ]
  },
  {
   "cell_type": "code",
   "execution_count": 9,
   "metadata": {},
   "outputs": [],
   "source": [
    "from tqdm.notebook import tqdm"
   ]
  },
  {
   "cell_type": "code",
   "execution_count": 9,
   "metadata": {},
   "outputs": [],
   "source": [
    "bu = np.load('saved/svd/bu.npy')\n",
    "bi = np.load('saved/svd/bi.npy')\n",
    "pu = np.load('saved/svd/pu.npy')\n",
    "qi = np.load('saved/svd/qi.npy')\n",
    "mu = user_item_matrix.mean().mean()"
   ]
  },
  {
   "cell_type": "markdown",
   "metadata": {},
   "source": [
    "##### Naïve code"
   ]
  },
  {
   "cell_type": "code",
   "execution_count": 9,
   "metadata": {},
   "outputs": [],
   "source": [
    "def compute_svd(user_item_matrix,\n",
    "                init_mu = 0,\n",
    "                init_sigma = 0.1,\n",
    "                latent_dim = 200,\n",
    "                n_epochs = 20,\n",
    "                gamma = 0.007,\n",
    "                lamb = 0.02):\n",
    "\n",
    "\n",
    "    na_mask = np.isnan(user_item_matrix)\n",
    "\n",
    "    #variables\n",
    "    bu = np.zeros(user_item_matrix.shape[0])\n",
    "    bi = np.zeros(user_item_matrix.shape[1])\n",
    "    pu = np.random.normal(init_mu, init_sigma, (user_item_matrix.shape[0], latent_dim))\n",
    "    qi = np.random.normal(init_mu, init_sigma, (user_item_matrix.shape[1], latent_dim))\n",
    "    mu = np.nanmean(user_item_matrix)\n",
    "\n",
    "\n",
    "    # algorithm\n",
    "    for epoch in range(n_epochs):\n",
    "        for i in range(user_item_matrix.shape[1]):\n",
    "            for u in np.where(~na_mask[:,i])[0]:\n",
    "                r = user_item_matrix[u,i]\n",
    "\n",
    "                err = r - (mu + bu[u] + bi[i] + np.dot(qi[i, :], pu[u,:].T))\n",
    "\n",
    "                bu[u] += gamma*(err-lamb*bu[u])\n",
    "                bi[i] += gamma*(err-lamb*bi[i])\n",
    "\n",
    "                qi[i,:] += gamma*(err*pu[u,:] - lamb*qi[i,:])\n",
    "                pu[u,:] += gamma*(err*qi[i,:] - lamb*pu[u,:])\n",
    "    return bu, bi, pu, qi, mu"
   ]
  },
  {
   "cell_type": "markdown",
   "metadata": {},
   "source": [
    "##### Cython\n",
    "Let's try to improve it using cython"
   ]
  },
  {
   "cell_type": "code",
   "execution_count": 10,
   "metadata": {},
   "outputs": [],
   "source": [
    "%load_ext cython"
   ]
  },
  {
   "cell_type": "code",
   "execution_count": 52,
   "metadata": {},
   "outputs": [],
   "source": [
    "%%cython\n",
    "cimport numpy as np\n",
    "import numpy as np\n",
    "\n",
    "def compute_svd_cython(double[:,:] user_item_matrix,\n",
    "                 double init_mu=0, \n",
    "                 double init_sigma=0.1, \n",
    "                 int latent_dim=200, \n",
    "                 int n_epochs=20,\n",
    "                 double gamma = 0.007,\n",
    "                 double lamb = 0.02):\n",
    "\n",
    "    na_mask = np.isnan(user_item_matrix)\n",
    "\n",
    "    #variables\n",
    "    bu = np.zeros(user_item_matrix.shape[0], np.double)\n",
    "    bi = np.zeros(user_item_matrix.shape[1], np.double)\n",
    "    pu = np.random.normal(init_mu, init_sigma, (user_item_matrix.shape[0], latent_dim))\n",
    "    qi = np.random.normal(init_mu, init_sigma, (user_item_matrix.shape[1], latent_dim))\n",
    "    cdef double mu = np.nanmean(user_item_matrix)\n",
    "\n",
    "    cdef int i, u, epoch\n",
    "    cdef double r = 0\n",
    "    cdef double err = 0\n",
    "\n",
    "\n",
    "    # algorithm\n",
    "    for epoch in range(n_epochs):\n",
    "        #print(str(epoch)+\"/\"+str(n_epochs))\n",
    "        for i in range(user_item_matrix.shape[1]):\n",
    "            for u in np.where(~na_mask[:,i])[0]:\n",
    "\n",
    "                r = user_item_matrix[u,i]\n",
    "\n",
    "                err = r - (mu + bu[u] + bi[i] + np.dot(qi[i, :], pu[u,:].T))\n",
    "\n",
    "                bu[u] += gamma*(err-lamb*bu[u])\n",
    "                bi[i] += gamma*(err-lamb*bi[i])\n",
    "\n",
    "                qi[i,:] += gamma*(err*pu[u,:] - lamb*qi[i,:])\n",
    "                pu[u,:] += gamma*(err*qi[i,:] - lamb*pu[u,:])\n",
    "    return bu, bi, qi, pu, mu"
   ]
  },
  {
   "cell_type": "markdown",
   "metadata": {},
   "source": [
    "##### Surprise\n",
    "\n",
    "The `surprise` library has a better \"cythonised\" code for this."
   ]
  },
  {
   "cell_type": "code",
   "execution_count": 81,
   "metadata": {},
   "outputs": [],
   "source": [
    "import surprise\n",
    "from surprise.prediction_algorithms.matrix_factorization import SVD\n",
    "from surprise import Dataset, Reader\n",
    "from surprise.model_selection import train_test_split"
   ]
  },
  {
   "cell_type": "code",
   "execution_count": 82,
   "metadata": {},
   "outputs": [],
   "source": [
    "reader = Reader(rating_scale=(1,5))\n",
    "data = Dataset.load_from_df(ratings[['user_id', 'movie_id', 'rating']], reader)\n",
    "trainset, testset = train_test_split(data, test_size=.25)"
   ]
  },
  {
   "cell_type": "code",
   "execution_count": 23,
   "metadata": {},
   "outputs": [],
   "source": [
    "def compute_svd_surprise(data):\n",
    "    algo = SVD(n_factors=200, n_epochs=1)\n",
    "    algo.fit(data)"
   ]
  },
  {
   "cell_type": "code",
   "execution_count": 53,
   "metadata": {},
   "outputs": [
    {
     "name": "stdout",
     "output_type": "stream",
     "text": [
      "14.8 s ± 194 ms per loop (mean ± std. dev. of 7 runs, 1 loop each)\n"
     ]
    }
   ],
   "source": [
    "%timeit compute_svd(user_item_matrix, n_epochs=1)"
   ]
  },
  {
   "cell_type": "code",
   "execution_count": 54,
   "metadata": {},
   "outputs": [
    {
     "name": "stdout",
     "output_type": "stream",
     "text": [
      "12 s ± 42.4 ms per loop (mean ± std. dev. of 7 runs, 1 loop each)\n"
     ]
    }
   ],
   "source": [
    "%timeit compute_svd_cython(user_item_matrix, n_epochs=1)"
   ]
  },
  {
   "cell_type": "code",
   "execution_count": 24,
   "metadata": {},
   "outputs": [
    {
     "name": "stdout",
     "output_type": "stream",
     "text": [
      "2.8 s ± 34.5 ms per loop (mean ± std. dev. of 7 runs, 1 loop each)\n"
     ]
    }
   ],
   "source": [
    "%timeit compute_svd_surprise(trainset)"
   ]
  },
  {
   "cell_type": "markdown",
   "metadata": {},
   "source": [
    "##### Prediction\n",
    "\n",
    "We will use surprise for the computation, but we will use our own predict function."
   ]
  },
  {
   "cell_type": "code",
   "execution_count": 12,
   "metadata": {},
   "outputs": [
    {
     "data": {
      "text/plain": [
       "<surprise.prediction_algorithms.matrix_factorization.SVD at 0x1a51a8b4d30>"
      ]
     },
     "execution_count": 12,
     "metadata": {},
     "output_type": "execute_result"
    }
   ],
   "source": [
    "trainset, testset = train_test_split(data, test_size=0.2)\n",
    "algo = SVD(n_factors=200, n_epochs=20)\n",
    "algo.fit(trainset)"
   ]
  },
  {
   "cell_type": "code",
   "execution_count": 13,
   "metadata": {},
   "outputs": [],
   "source": [
    "bu = algo.bu\n",
    "bi = algo.bi\n",
    "pu = algo.pu\n",
    "qi = algo.qi\n",
    "mu = user_item_matrix.mean().mean()"
   ]
  },
  {
   "cell_type": "code",
   "execution_count": 14,
   "metadata": {},
   "outputs": [
    {
     "data": {
      "text/plain": [
       "((6040,), (3683,), (6040, 3706))"
      ]
     },
     "execution_count": 14,
     "metadata": {},
     "output_type": "execute_result"
    }
   ],
   "source": [
    "bu.shape, bi.shape, user_item_matrix.shape"
   ]
  },
  {
   "cell_type": "code",
   "execution_count": 15,
   "metadata": {},
   "outputs": [],
   "source": [
    "np.save('saved/svd/bu.npy', bu)\n",
    "np.save('saved/svd/bi.npy', bi)\n",
    "np.save('saved/svd/pu.npy', pu)\n",
    "np.save('saved/svd/qi.npy', qi)"
   ]
  },
  {
   "cell_type": "code",
   "execution_count": 16,
   "metadata": {},
   "outputs": [],
   "source": [
    "def predict(u, i):\n",
    "    # This is a nuance of using train/test split. Since our dataset is split by surprise, let's use their functions\n",
    "    uk = trainset.knows_user(u)\n",
    "    ik = trainset.knows_item(i)\n",
    "    \n",
    "    r_hat = mu\n",
    "    \n",
    "    if uk:\n",
    "        r_hat += bu[u]\n",
    "    \n",
    "    if ik: \n",
    "        r_hat += bi[i]\n",
    "    \n",
    "    if uk and ik:\n",
    "        r_hat += np.dot(qi[i, :], pu[u,:].T)\n",
    "    \n",
    "    return r_hat"
   ]
  },
  {
   "cell_type": "code",
   "execution_count": 17,
   "metadata": {},
   "outputs": [
    {
     "data": {
      "text/plain": [
       "2.728968000743415"
      ]
     },
     "execution_count": 17,
     "metadata": {},
     "output_type": "execute_result"
    }
   ],
   "source": [
    "predict(10,2)"
   ]
  },
  {
   "cell_type": "markdown",
   "metadata": {},
   "source": [
    "#### Rank Accuracy"
   ]
  },
  {
   "cell_type": "code",
   "execution_count": 83,
   "metadata": {},
   "outputs": [],
   "source": [
    "to_test = [x[0:2] for x in testset if x[2] == 5.0]"
   ]
  },
  {
   "cell_type": "code",
   "execution_count": 43,
   "metadata": {},
   "outputs": [],
   "source": [
    "def precision_at_N(N):\n",
    "    hits = 0\n",
    "    for u,i in to_test:\n",
    "        candidate_unseen_movies = np.where(na_mask[u2idx[u],:])[0]\n",
    "        candidate_unseen_movies = np.random.choice(candidate_unseen_movies, size=100, replace=False)\n",
    "        candidate_unseen_movies = np.append(candidate_unseen_movies, i2idx[i])\n",
    "        unseen_movies_order_idx = np.argsort([predict(u,idx2i[ii]) for ii in candidate_unseen_movies])[::-1]\n",
    "        sorted_unseen_movies = candidate_unseen_movies[unseen_movies_order_idx]\n",
    "        p = np.where(sorted_unseen_movies == i2idx[i])[0]\n",
    "        hits += p<=N\n",
    "    recall_N = hits/len(to_test)\n",
    "    precision_N = recall_N/(N+1)\n",
    "    return recall_N, precision_N"
   ]
  },
  {
   "cell_type": "code",
   "execution_count": 44,
   "metadata": {},
   "outputs": [
    {
     "data": {
      "application/vnd.jupyter.widget-view+json": {
       "model_id": "0abc0fe45d734853b0f29e2b62a32d6b",
       "version_major": 2,
       "version_minor": 0
      },
      "text/plain": [
       "HBox(children=(FloatProgress(value=0.0, max=20.0), HTML(value='')))"
      ]
     },
     "metadata": {},
     "output_type": "display_data"
    },
    {
     "name": "stdout",
     "output_type": "stream",
     "text": [
      "\n"
     ]
    }
   ],
   "source": [
    "scores = []\n",
    "for N in tqdm(range(1,21)):\n",
    "    scores.append(precision_at_N(N))\n",
    "\n",
    "prec = [x[1] for x in scores]\n",
    "rec = [x[0] for x in scores]"
   ]
  },
  {
   "cell_type": "code",
   "execution_count": 48,
   "metadata": {},
   "outputs": [
    {
     "data": {
      "text/plain": [
       "[]"
      ]
     },
     "execution_count": 48,
     "metadata": {},
     "output_type": "execute_result"
    },
    {
     "data": {
      "image/png": "[encoded data removed]",
      "text/plain": [
       "<Figure size 1440x720 with 2 Axes>"
      ]
     },
     "metadata": {
      "needs_background": "light"
     },
     "output_type": "display_data"
    }
   ],
   "source": [
    "plt.figure(figsize=(20,10))\n",
    "\n",
    "ax = plt.subplot(1,2,1)\n",
    "ax.plot(np.linspace(1,21,num=20), rec, 'c-')\n",
    "ax.set_xlabel('N')\n",
    "ax.set_ylabel('recall(N)')\n",
    "ax.set_title('Recall')\n",
    "\n",
    "ax = plt.subplot(1,2,2)\n",
    "ax.plot(rec, prec, 'c-')\n",
    "ax.set_xlabel('recall')\n",
    "ax.set_ylabel('precision')\n",
    "ax.set_title('Precision vs recall')\n",
    "\n",
    "plt.plot()"
   ]
  }
 ],
 "metadata": {
  "kernelspec": {
   "display_name": "Python 3",
   "language": "python",
   "name": "python3"
  },
  "language_info": {
   "codemirror_mode": {
    "name": "ipython",
    "version": 3
   },
   "file_extension": ".py",
   "mimetype": "text/x-python",
   "name": "python",
   "nbconvert_exporter": "python",
   "pygments_lexer": "ipython3",
   "version": "3.7.3"
  }
 },
 "nbformat": 4,
 "nbformat_minor": 2
}
