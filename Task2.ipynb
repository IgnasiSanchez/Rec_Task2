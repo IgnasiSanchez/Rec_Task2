{
 "cells": [
  {
   "cell_type": "code",
   "execution_count": 1,
   "metadata": {},
   "outputs": [
    {
     "data": {
      "application/javascript": [
       "IPython.notebook.set_autosave_interval(150000)"
      ]
     },
     "metadata": {},
     "output_type": "display_data"
    },
    {
     "name": "stdout",
     "output_type": "stream",
     "text": [
      "Autosaving every 150 seconds\n"
     ]
    }
   ],
   "source": [
    "%autosave 150\n",
    "%matplotlib inline\n",
    "import pandas as pd\n",
    "import numpy as np\n",
    "import math\n",
    "import matplotlib.pylab as plt"
   ]
  },
  {
   "cell_type": "markdown",
   "metadata": {},
   "source": [
    "# Load Data"
   ]
  },
  {
   "cell_type": "code",
   "execution_count": 2,
   "metadata": {},
   "outputs": [],
   "source": [
    "def load_movielens_100k():\n",
    "    # Load users\n",
    "    u_cols = ['user_id', 'age', 'sex', 'occupation', 'zip_code']\n",
    "    users = pd.read_csv('data/ml-100k/u.user', sep='|', names=u_cols)\n",
    "\n",
    "    # load ratings\n",
    "    r_cols = ['user_id', 'movie_id', 'rating', 'unix_timestamp']\n",
    "    ratings = pd.read_csv('data/ml-100k/u.data', sep='\\t', names=r_cols)\n",
    "\n",
    "    # Load movies\n",
    "    m_cols = ['movie_id', 'title', 'release_date']\n",
    "    movies = pd.read_csv('data/ml-100k/u.item', sep='|', names=m_cols, usecols=range(3), encoding='latin-1')\n",
    "\n",
    "    # Join dataframes\n",
    "    data = pd.merge(pd.merge(ratings, users), movies)\n",
    "    data = data[['user_id','title', 'movie_id','rating','release_date','sex','age']]\n",
    "\n",
    "\n",
    "    print(\"The DB has \"+ str(data.shape[0]) +\" ratings\")\n",
    "    print(\"The DB has \", data.user_id.nunique(),\" users\")\n",
    "    print(\"The DB has \", data.movie_id.nunique(), \" movies\")\n",
    "    print(data.head())\n",
    "    \n",
    "    return data, users, ratings, movies\n",
    "\n",
    "def load_movielens_1M():\n",
    "    # Load users\n",
    "    u_cols = ['user_id', 'age', 'sex', 'occupation', 'zip_code']\n",
    "    users = pd.read_csv('data/ml-1m/users.dat', sep='::', names=u_cols)\n",
    "\n",
    "    # Load ratings\n",
    "    r_cols = ['user_id', 'movie_id', 'rating', 'unix_timestamp']\n",
    "    ratings = pd.read_csv('data/ml-1m/ratings.dat', sep='::', names=r_cols)\n",
    "\n",
    "    # Load movies\n",
    "    m_cols = ['movie_id', 'title', 'release_date']\n",
    "    movies = pd.read_csv('data/ml-1m/movies.dat', sep='::', names=m_cols, usecols=range(3), encoding='latin-1')\n",
    "\n",
    "    # Join dataframes\n",
    "    data = pd.merge(pd.merge(ratings, users), movies)\n",
    "    data = data[['user_id','title', 'movie_id','rating','release_date','sex','age']]\n",
    "\n",
    "\n",
    "    print(\"The DB has \"+ str(data.shape[0]) +\" ratings\")\n",
    "    print(\"The DB has \", data.user_id.nunique(),\" users\")\n",
    "    print(\"The DB has \", data.movie_id.nunique(), \" movies\")\n",
    "    print(data.head())\n",
    "    \n",
    "    return data, users, ratings, movies"
   ]
  },
  {
   "cell_type": "markdown",
   "metadata": {},
   "source": [
    "# Missing value treatment"
   ]
  },
  {
   "cell_type": "code",
   "execution_count": 3,
   "metadata": {},
   "outputs": [],
   "source": [
    "from sklearn.impute import KNNImputer\n",
    "\n",
    "def impute_missing_values(df, method=\"mean\", **params):\n",
    "    if method == \"mean\":\n",
    "        return df.mean(), df.fillna(df.mean())\n",
    "    elif method == \"median\":\n",
    "        return df.median(), df.fillna(df.median())\n",
    "    elif method == \"KNN\":\n",
    "        knnimputer = KNNImputer(**params)\n",
    "        knnimputer.fit(df)\n",
    "        return knnimputer, knnimputer.transform(df)  "
   ]
  },
  {
   "cell_type": "markdown",
   "metadata": {},
   "source": [
    "# Item based"
   ]
  },
  {
   "cell_type": "code",
   "execution_count": 62,
   "metadata": {},
   "outputs": [
    {
     "name": "stdout",
     "output_type": "stream",
     "text": [
      "The DB has 100000 ratings\n",
      "The DB has  943  users\n",
      "The DB has  1682  movies\n",
      "   user_id         title  movie_id  rating release_date sex  age\n",
      "0      196  Kolya (1996)       242       3  24-Jan-1997   M   49\n",
      "1      305  Kolya (1996)       242       5  24-Jan-1997   M   23\n",
      "2        6  Kolya (1996)       242       4  24-Jan-1997   M   42\n",
      "3      234  Kolya (1996)       242       4  24-Jan-1997   M   60\n",
      "4       63  Kolya (1996)       242       3  24-Jan-1997   M   31\n"
     ]
    }
   ],
   "source": [
    "data, users, ratings, movies = load_movielens_100k()"
   ]
  },
  {
   "cell_type": "code",
   "execution_count": 5,
   "metadata": {},
   "outputs": [],
   "source": [
    "user_item_matrix = data.pivot(index='user_id', columns='movie_id', values='rating')\n",
    "item_user_matrix = data.pivot(index='movie_id', columns='user_id', values='rating')"
   ]
  },
  {
   "cell_type": "code",
   "execution_count": 29,
   "metadata": {},
   "outputs": [],
   "source": [
    "def slow_similarity(user_item_matrix, u1, u2, measure=\"cosine\"):\n",
    "    def dot(m, u1, u2):\n",
    "        return m.loc[u1].dot(m.loc[u2])\n",
    "    \n",
    "    if measure == 'cosine':\n",
    "        return dot(user_item_matrix, u1, u2)/(np.sqrt(dot(user_item_matrix, u1, u1)*dot(user_item_matrix, u2, u2)))\n",
    "    \n",
    "    elif measure == 'adj_cosine' or measure=='pearson_correlation':\n",
    "        mr1 = user_item_matrix.loc[u1].mean()\n",
    "        mr2 = user_item_matrix.loc[u2].mean()\n",
    "        common_movies = user_item_matrix.loc[[u1,u2]].isna().sum(axis=0)==0\n",
    "        common_matrix = user_item_matrix.T[common_movies].T\n",
    "        return dot(common_matrix, u1, u2)/(np.sqrt(dot(common_matrix, u1, u1)*dot(common_matrix, u2, u2)))\n",
    "    else:\n",
    "        print(\"Method not implemented\")\n",
    "        \n",
    "def fast_similarity(user_item_matrix, measure=\"cosine\"):\n",
    "    if measure == 'cosine':\n",
    "        m = user_item_matrix.dot(user_item_matrix.T)\n",
    "        norm = np.array([np.sqrt(np.diagonal(m))])\n",
    "        return (m/norm/norm.T)\n",
    "    \n",
    "    elif measure == 'adj_cosine' or measure=='pearson_correlation':\n",
    "        m = user_item_matrix - user_item_matrix.mean()\n",
    "        m = m.dot(m.T)\n",
    "        norm = np.array([np.sqrt(np.diagonal(m))])\n",
    "        return (m/norm/norm.T)"
   ]
  },
  {
   "cell_type": "code",
   "execution_count": 27,
   "metadata": {},
   "outputs": [
    {
     "data": {
      "text/plain": [
       "0.987294941213731"
      ]
     },
     "execution_count": 27,
     "metadata": {},
     "output_type": "execute_result"
    }
   ],
   "source": [
    "slow_similarity(user_item_matrix.fillna(user_item_matrix.mean()).T, 10, 11, \"cosine\")"
   ]
  },
  {
   "cell_type": "code",
   "execution_count": 28,
   "metadata": {
    "scrolled": false
   },
   "outputs": [
    {
     "data": {
      "text/plain": [
       "0.9872949412137292"
      ]
     },
     "execution_count": 28,
     "metadata": {},
     "output_type": "execute_result"
    }
   ],
   "source": [
    "sim_matrix = fast_similarity(user_item_matrix.fillna(user_item_matrix.mean()).T, 'cosine')\n",
    "sim_matrix.loc[10][11]"
   ]
  },
  {
   "cell_type": "code",
   "execution_count": 67,
   "metadata": {},
   "outputs": [],
   "source": [
    "def recommend_top_k(k, user_vector, user_item_matrix, measure=\"cosine\", movies_df=movies):\n",
    "    new_uim = user_item_matrix.copy()\n",
    "    new_uim.append(user_vector, ignore_index=True)\n",
    "    sim_matrix = fast_similarity(new_uim, measure)\n",
    "    scores_vector = sim_matrix.iloc[-1].sort_values(ascending=False)\n",
    "    idx = scores_vector.iloc[1:k+1].index.tolist() # item 0 is always same item\n",
    "    return movies_df[movies_df['movie_id'].isin(idx)]['title']"
   ]
  },
  {
   "cell_type": "code",
   "execution_count": 68,
   "metadata": {},
   "outputs": [
    {
     "data": {
      "text/plain": [
       "1504                   Killer: A Journal of Murder (1995)\n",
       "1509                                  Mad Dog Time (1996)\n",
       "1512                                        Sprung (1997)\n",
       "1514                              Wings of Courage (1995)\n",
       "1519                                     Fear, The (1995)\n",
       "1520                                 Mr. Wonderful (1993)\n",
       "1524                   Object of My Affection, The (1998)\n",
       "1525                                       Witness (1985)\n",
       "1531                               Foreign Student (1994)\n",
       "1532    I Don't Want to Talk About It (De eso no se ha...\n",
       "Name: title, dtype: object"
      ]
     },
     "execution_count": 68,
     "metadata": {},
     "output_type": "execute_result"
    }
   ],
   "source": [
    "user_item_matrix_nafilled = user_item_matrix.fillna(user_item_matrix.mean())\n",
    "recommend_top_k(10, user_item_matrix_nafilled[1].T, user_item_matrix_nafilled.T)"
   ]
  },
  {
   "cell_type": "code",
   "execution_count": 49,
   "metadata": {},
   "outputs": [],
   "source": [
    "def content_based_predict(user_id, item_id, df_matrix, cosine_similarities, banned_list=[]):\n",
    "    if user_id in banned_list:\n",
    "        return 0\n",
    "    mean_item = df_matrix[item_id].mean()\n",
    "    items_user = df_matrix.loc[user_id][df_matrix.loc[user_id] != 0]\n",
    "    candidate_items = items_user.index.tolist()\n",
    "    candidate_ratings = items_user.values\n",
    "    sims = np.array([cosine_similarities[item_id][item_j] for item_j in candidate_items])\n",
    "    candidate_means = np.array([df_matrix[item_j].mean() for item_j in candidate_items])\n",
    "    \n",
    "    if np.sum(sims) <= 0.0001:\n",
    "        return mean_item\n",
    "    else:\n",
    "        return mean_item + np.sum(np.dot(sims, (candidate_ratings-candidate_means)))/np.sum(sims)"
   ]
  },
  {
   "cell_type": "code",
   "execution_count": 51,
   "metadata": {},
   "outputs": [
    {
     "data": {
      "text/plain": [
       "3.985507097355107"
      ]
     },
     "execution_count": 51,
     "metadata": {},
     "output_type": "execute_result"
    }
   ],
   "source": [
    "content_based_predict(10, 2, user_item_matrix.fillna(0), sim_matrix)"
   ]
  },
  {
   "cell_type": "markdown",
   "metadata": {},
   "source": [
    "# Matrix Factorization based"
   ]
  },
  {
   "cell_type": "code",
   "execution_count": 4,
   "metadata": {},
   "outputs": [
    {
     "name": "stderr",
     "output_type": "stream",
     "text": [
      "E:\\Programs\\Anaconda\\lib\\site-packages\\ipykernel_launcher.py:29: ParserWarning: Falling back to the 'python' engine because the 'c' engine does not support regex separators (separators > 1 char and different from '\\s+' are interpreted as regex); you can avoid this warning by specifying engine='python'.\n",
      "E:\\Programs\\Anaconda\\lib\\site-packages\\ipykernel_launcher.py:33: ParserWarning: Falling back to the 'python' engine because the 'c' engine does not support regex separators (separators > 1 char and different from '\\s+' are interpreted as regex); you can avoid this warning by specifying engine='python'.\n",
      "E:\\Programs\\Anaconda\\lib\\site-packages\\ipykernel_launcher.py:37: ParserWarning: Falling back to the 'python' engine because the 'c' engine does not support regex separators (separators > 1 char and different from '\\s+' are interpreted as regex); you can avoid this warning by specifying engine='python'.\n"
     ]
    },
    {
     "name": "stdout",
     "output_type": "stream",
     "text": [
      "The DB has 1000209 ratings\n",
      "The DB has  6040  users\n",
      "The DB has  3706  movies\n",
      "   user_id                                   title  movie_id  rating  \\\n",
      "0        1  One Flew Over the Cuckoo's Nest (1975)      1193       5   \n",
      "1        2  One Flew Over the Cuckoo's Nest (1975)      1193       5   \n",
      "2       12  One Flew Over the Cuckoo's Nest (1975)      1193       4   \n",
      "3       15  One Flew Over the Cuckoo's Nest (1975)      1193       4   \n",
      "4       17  One Flew Over the Cuckoo's Nest (1975)      1193       5   \n",
      "\n",
      "  release_date  sex age  \n",
      "0        Drama    1   F  \n",
      "1        Drama   56   M  \n",
      "2        Drama   25   M  \n",
      "3        Drama   25   M  \n",
      "4        Drama   50   M  \n"
     ]
    }
   ],
   "source": [
    "data, _, _ , movies = load_movielens_1M()"
   ]
  },
  {
   "cell_type": "code",
   "execution_count": 35,
   "metadata": {},
   "outputs": [],
   "source": [
    "user_item_matrix = data.pivot(index='user_id', columns='movie_id', values='rating')\n",
    "na_mask = user_item_matrix.isna().to_numpy()\n",
    "imputer, imputed_uim = impute_missing_values(user_item_matrix, method=\"mean\")"
   ]
  },
  {
   "cell_type": "code",
   "execution_count": 10,
   "metadata": {},
   "outputs": [
    {
     "data": {
      "text/plain": [
       "(6040, 3706)"
      ]
     },
     "execution_count": 10,
     "metadata": {},
     "output_type": "execute_result"
    }
   ],
   "source": [
    "imputed_uim.shape"
   ]
  },
  {
   "cell_type": "markdown",
   "metadata": {},
   "source": [
    "### SVD missing value imputation"
   ]
  },
  {
   "cell_type": "code",
   "execution_count": 25,
   "metadata": {},
   "outputs": [],
   "source": [
    "from scipy.linalg import svd"
   ]
  },
  {
   "cell_type": "code",
   "execution_count": 43,
   "metadata": {},
   "outputs": [],
   "source": [
    "R_f = imputed_uim\n",
    "U,s,Vt = svd(imputed_uim, full_matrices=False)\n",
    "tmp = U.dot(np.diag(s)).dot(Vt)\n",
    "R_f_1 = R_f.copy()\n",
    "R_f_1[na_mask] = tmp"
   ]
  },
  {
   "cell_type": "code",
   "execution_count": 47,
   "metadata": {},
   "outputs": [
    {
     "name": "stdout",
     "output_type": "stream",
     "text": [
      "2.160528189879166e-11\n",
      "2.14062854616419e-11\n",
      "2.4900543836719436e-11\n",
      "2.125893946197836e-11\n",
      "2.2149406293781588e-11\n",
      "2.3554143303590684e-11\n",
      "2.165646015803868e-11\n",
      "2.286399278977073e-11\n",
      "2.2294015466695682e-11\n",
      "2.1922060896382743e-11\n"
     ]
    }
   ],
   "source": [
    "for i in range(10):\n",
    "    R_f = R_f_1.copy()\n",
    "    U,s,Vt = svd(R_f_1, full_matrices=False)\n",
    "    tmp = U.dot(np.diag(s)).dot(Vt)\n",
    "    R_f_1[na_mask] = tmp\n",
    "    print(np.linalg.norm(R_f - R_f_1))"
   ]
  },
  {
   "cell_type": "markdown",
   "metadata": {},
   "source": [
    "### Classic SVD"
   ]
  },
  {
   "cell_type": "code",
   "execution_count": 57,
   "metadata": {},
   "outputs": [],
   "source": [
    "from tqdm.notebook import tqdm"
   ]
  },
  {
   "cell_type": "code",
   "execution_count": 59,
   "metadata": {},
   "outputs": [
    {
     "data": {
      "application/vnd.jupyter.widget-view+json": {
       "model_id": "b59b1a49ca31495ca8b8d9ff3df8e164",
       "version_major": 2,
       "version_minor": 0
      },
      "text/plain": [
       "HBox(children=(FloatProgress(value=0.0, max=20.0), HTML(value='')))"
      ]
     },
     "metadata": {},
     "output_type": "display_data"
    },
    {
     "name": "stdout",
     "output_type": "stream",
     "text": [
      "\n"
     ]
    }
   ],
   "source": [
    "#hyperparams\n",
    "init_mu = 0\n",
    "init_sigma = 0.1\n",
    "latent_dim = 200\n",
    "n_epochs = 20\n",
    "gamma = 0.007\n",
    "lamb = 0.02\n",
    "\n",
    "\n",
    "#variables\n",
    "bu = np.zeros(user_item_matrix.shape[0])\n",
    "bi = np.zeros(user_item_matrix.shape[1])\n",
    "pu = np.random.normal(init_mu, init_sigma, (user_item_matrix.shape[0], latent_dim))\n",
    "qi = np.random.normal(init_mu, init_sigma, (user_item_matrix.shape[1], latent_dim))\n",
    "mu = user_item_matrix.mean().mean()\n",
    "\n",
    "\n",
    "# algorithm\n",
    "for epoch in tqdm(range(n_epochs)):\n",
    "    for ii, i in enumerate(user_item_matrix.columns.values):\n",
    "        for uu, u in enumerate(user_item_matrix[~user_item_matrix[i].isna()].index.values):\n",
    "            r = user_item_matrix[i].loc[u]\n",
    "            \n",
    "            err = r - (mu + bu[uu] + bi[ii] + np.dot(qi[ii, :], pu[uu,:].T))\n",
    "            \n",
    "            bu[uu] += gamma*(err-lamb*bu[uu])\n",
    "            bi[ii] += gamma*(err-lamb*bi[ii])\n",
    "            \n",
    "            qi[ii,:] += gamma*(err*pu[uu,:] - lamb*qi[ii,:])\n",
    "            pu[uu,:] += gamma*(err*qi[ii,:] - lamb*pu[uu,:])\n",
    "            "
   ]
  },
  {
   "cell_type": "code",
   "execution_count": 61,
   "metadata": {},
   "outputs": [],
   "source": [
    "def predict(u, i):\n",
    "    uu = np.where(user_item_matrix.index.values == u)[0]\n",
    "    ii = np.where(user_item_matrix.columns.values == i)[0]\n",
    "    \n",
    "    return mu + bi[ii] + bu[uu] + np.dot(qi[ii, :], pu[uu,:].T)"
   ]
  },
  {
   "cell_type": "code",
   "execution_count": 64,
   "metadata": {},
   "outputs": [
    {
     "data": {
      "text/plain": [
       "array([[4.18059834]])"
      ]
     },
     "execution_count": 64,
     "metadata": {},
     "output_type": "execute_result"
    }
   ],
   "source": [
    "predict(10,2)"
   ]
  },
  {
   "cell_type": "markdown",
   "metadata": {},
   "source": [
    "### SVD++"
   ]
  },
  {
   "cell_type": "code",
   "execution_count": 84,
   "metadata": {},
   "outputs": [],
   "source": [
    "#items rated by user u\n",
    "R_u = {u:user_item_matrix.columns[~user_item_matrix.loc[u].isna()] for u in user_item_matrix.index.values}\n",
    "R_u_idx = {u:user_item_matrix.columns.isin(R_u[u]) for u in R_u.keys()}"
   ]
  },
  {
   "cell_type": "code",
   "execution_count": 85,
   "metadata": {},
   "outputs": [
    {
     "data": {
      "application/vnd.jupyter.widget-view+json": {
       "model_id": "0fdd749071fc43388800d3c5d85c4e48",
       "version_major": 2,
       "version_minor": 0
      },
      "text/plain": [
       "HBox(children=(FloatProgress(value=0.0, max=20.0), HTML(value='')))"
      ]
     },
     "metadata": {},
     "output_type": "display_data"
    },
    {
     "data": {
      "application/vnd.jupyter.widget-view+json": {
       "model_id": "df0f1235bb004d3cb013255b1ee395eb",
       "version_major": 2,
       "version_minor": 0
      },
      "text/plain": [
       "HBox(children=(FloatProgress(value=1.0, bar_style='info', max=1.0), HTML(value='')))"
      ]
     },
     "metadata": {},
     "output_type": "display_data"
    },
    {
     "name": "stderr",
     "output_type": "stream",
     "text": [
      "E:\\Programs\\Anaconda\\lib\\site-packages\\ipykernel_launcher.py:31: RuntimeWarning: invalid value encountered in double_scalars\n",
      "E:\\Programs\\Anaconda\\lib\\site-packages\\ipykernel_launcher.py:33: RuntimeWarning: invalid value encountered in add\n"
     ]
    },
    {
     "name": "stdout",
     "output_type": "stream",
     "text": [
      "\n"
     ]
    },
    {
     "data": {
      "application/vnd.jupyter.widget-view+json": {
       "model_id": "2fcb075382364ea2831576309007066f",
       "version_major": 2,
       "version_minor": 0
      },
      "text/plain": [
       "HBox(children=(FloatProgress(value=1.0, bar_style='info', max=1.0), HTML(value='')))"
      ]
     },
     "metadata": {},
     "output_type": "display_data"
    },
    {
     "name": "stdout",
     "output_type": "stream",
     "text": [
      "\n"
     ]
    },
    {
     "data": {
      "application/vnd.jupyter.widget-view+json": {
       "model_id": "909a7f1fac1f4dd2a2731757fba168ec",
       "version_major": 2,
       "version_minor": 0
      },
      "text/plain": [
       "HBox(children=(FloatProgress(value=1.0, bar_style='info', max=1.0), HTML(value='')))"
      ]
     },
     "metadata": {},
     "output_type": "display_data"
    },
    {
     "name": "stdout",
     "output_type": "stream",
     "text": [
      "\n"
     ]
    },
    {
     "data": {
      "application/vnd.jupyter.widget-view+json": {
       "model_id": "f2fe70e9f7424237b3761df38ecc0ef7",
       "version_major": 2,
       "version_minor": 0
      },
      "text/plain": [
       "HBox(children=(FloatProgress(value=1.0, bar_style='info', max=1.0), HTML(value='')))"
      ]
     },
     "metadata": {},
     "output_type": "display_data"
    },
    {
     "name": "stdout",
     "output_type": "stream",
     "text": [
      "\n"
     ]
    },
    {
     "data": {
      "application/vnd.jupyter.widget-view+json": {
       "model_id": "fbacc77aee3f42668443cb981e54a97d",
       "version_major": 2,
       "version_minor": 0
      },
      "text/plain": [
       "HBox(children=(FloatProgress(value=1.0, bar_style='info', max=1.0), HTML(value='')))"
      ]
     },
     "metadata": {},
     "output_type": "display_data"
    },
    {
     "name": "stdout",
     "output_type": "stream",
     "text": [
      "\n"
     ]
    },
    {
     "data": {
      "application/vnd.jupyter.widget-view+json": {
       "model_id": "9bb589d976a9456aafb74b58eb06d8bb",
       "version_major": 2,
       "version_minor": 0
      },
      "text/plain": [
       "HBox(children=(FloatProgress(value=1.0, bar_style='info', max=1.0), HTML(value='')))"
      ]
     },
     "metadata": {},
     "output_type": "display_data"
    },
    {
     "name": "stdout",
     "output_type": "stream",
     "text": [
      "\n"
     ]
    },
    {
     "data": {
      "application/vnd.jupyter.widget-view+json": {
       "model_id": "8f18bb38e8994c10b42dcd015af1b886",
       "version_major": 2,
       "version_minor": 0
      },
      "text/plain": [
       "HBox(children=(FloatProgress(value=1.0, bar_style='info', max=1.0), HTML(value='')))"
      ]
     },
     "metadata": {},
     "output_type": "display_data"
    },
    {
     "name": "stdout",
     "output_type": "stream",
     "text": [
      "\n"
     ]
    },
    {
     "data": {
      "application/vnd.jupyter.widget-view+json": {
       "model_id": "7b000767cacf4dc1a980f696290f0e4a",
       "version_major": 2,
       "version_minor": 0
      },
      "text/plain": [
       "HBox(children=(FloatProgress(value=1.0, bar_style='info', max=1.0), HTML(value='')))"
      ]
     },
     "metadata": {},
     "output_type": "display_data"
    },
    {
     "name": "stdout",
     "output_type": "stream",
     "text": [
      "\n"
     ]
    },
    {
     "data": {
      "application/vnd.jupyter.widget-view+json": {
       "model_id": "6d8bdd98f3a74a74b392b3ac212a5c94",
       "version_major": 2,
       "version_minor": 0
      },
      "text/plain": [
       "HBox(children=(FloatProgress(value=1.0, bar_style='info', max=1.0), HTML(value='')))"
      ]
     },
     "metadata": {},
     "output_type": "display_data"
    },
    {
     "name": "stdout",
     "output_type": "stream",
     "text": [
      "\n"
     ]
    },
    {
     "data": {
      "application/vnd.jupyter.widget-view+json": {
       "model_id": "f632198043584c909a939ce14e8a87ec",
       "version_major": 2,
       "version_minor": 0
      },
      "text/plain": [
       "HBox(children=(FloatProgress(value=1.0, bar_style='info', max=1.0), HTML(value='')))"
      ]
     },
     "metadata": {},
     "output_type": "display_data"
    },
    {
     "name": "stdout",
     "output_type": "stream",
     "text": [
      "\n"
     ]
    },
    {
     "data": {
      "application/vnd.jupyter.widget-view+json": {
       "model_id": "8c19e80b4a00498a81e1dd7b9d0c9002",
       "version_major": 2,
       "version_minor": 0
      },
      "text/plain": [
       "HBox(children=(FloatProgress(value=1.0, bar_style='info', max=1.0), HTML(value='')))"
      ]
     },
     "metadata": {},
     "output_type": "display_data"
    },
    {
     "name": "stdout",
     "output_type": "stream",
     "text": [
      "\n"
     ]
    },
    {
     "data": {
      "application/vnd.jupyter.widget-view+json": {
       "model_id": "369e44a7e44145d7b51039f471679c09",
       "version_major": 2,
       "version_minor": 0
      },
      "text/plain": [
       "HBox(children=(FloatProgress(value=1.0, bar_style='info', max=1.0), HTML(value='')))"
      ]
     },
     "metadata": {},
     "output_type": "display_data"
    },
    {
     "name": "stdout",
     "output_type": "stream",
     "text": [
      "\n"
     ]
    },
    {
     "data": {
      "application/vnd.jupyter.widget-view+json": {
       "model_id": "e132115ee3b149c8a1d02e484f99093d",
       "version_major": 2,
       "version_minor": 0
      },
      "text/plain": [
       "HBox(children=(FloatProgress(value=1.0, bar_style='info', max=1.0), HTML(value='')))"
      ]
     },
     "metadata": {},
     "output_type": "display_data"
    },
    {
     "name": "stdout",
     "output_type": "stream",
     "text": [
      "\n"
     ]
    },
    {
     "data": {
      "application/vnd.jupyter.widget-view+json": {
       "model_id": "f1f23a089b6b4145b125fa82d6513401",
       "version_major": 2,
       "version_minor": 0
      },
      "text/plain": [
       "HBox(children=(FloatProgress(value=1.0, bar_style='info', max=1.0), HTML(value='')))"
      ]
     },
     "metadata": {},
     "output_type": "display_data"
    },
    {
     "name": "stdout",
     "output_type": "stream",
     "text": [
      "\n"
     ]
    },
    {
     "data": {
      "application/vnd.jupyter.widget-view+json": {
       "model_id": "40aed77ae05b44338f1d24daa4c07436",
       "version_major": 2,
       "version_minor": 0
      },
      "text/plain": [
       "HBox(children=(FloatProgress(value=1.0, bar_style='info', max=1.0), HTML(value='')))"
      ]
     },
     "metadata": {},
     "output_type": "display_data"
    },
    {
     "name": "stdout",
     "output_type": "stream",
     "text": [
      "\n"
     ]
    },
    {
     "data": {
      "application/vnd.jupyter.widget-view+json": {
       "model_id": "76187ee0a8f3429389ba9a46cf7c0055",
       "version_major": 2,
       "version_minor": 0
      },
      "text/plain": [
       "HBox(children=(FloatProgress(value=1.0, bar_style='info', max=1.0), HTML(value='')))"
      ]
     },
     "metadata": {},
     "output_type": "display_data"
    },
    {
     "name": "stdout",
     "output_type": "stream",
     "text": [
      "\n"
     ]
    },
    {
     "data": {
      "application/vnd.jupyter.widget-view+json": {
       "model_id": "7518b7ee0e3e461bbe48a59e2bd1a74f",
       "version_major": 2,
       "version_minor": 0
      },
      "text/plain": [
       "HBox(children=(FloatProgress(value=1.0, bar_style='info', max=1.0), HTML(value='')))"
      ]
     },
     "metadata": {},
     "output_type": "display_data"
    },
    {
     "name": "stdout",
     "output_type": "stream",
     "text": [
      "\n"
     ]
    },
    {
     "data": {
      "application/vnd.jupyter.widget-view+json": {
       "model_id": "7c0dd21ecb944fddac994f66b2f3c2c6",
       "version_major": 2,
       "version_minor": 0
      },
      "text/plain": [
       "HBox(children=(FloatProgress(value=1.0, bar_style='info', max=1.0), HTML(value='')))"
      ]
     },
     "metadata": {},
     "output_type": "display_data"
    },
    {
     "name": "stdout",
     "output_type": "stream",
     "text": [
      "\n"
     ]
    },
    {
     "data": {
      "application/vnd.jupyter.widget-view+json": {
       "model_id": "4c890bb459da40798aec1a34a8fb8316",
       "version_major": 2,
       "version_minor": 0
      },
      "text/plain": [
       "HBox(children=(FloatProgress(value=1.0, bar_style='info', max=1.0), HTML(value='')))"
      ]
     },
     "metadata": {},
     "output_type": "display_data"
    },
    {
     "name": "stdout",
     "output_type": "stream",
     "text": [
      "\n"
     ]
    },
    {
     "data": {
      "application/vnd.jupyter.widget-view+json": {
       "model_id": "cb85be85b3f349b489fde3f636621b8e",
       "version_major": 2,
       "version_minor": 0
      },
      "text/plain": [
       "HBox(children=(FloatProgress(value=1.0, bar_style='info', max=1.0), HTML(value='')))"
      ]
     },
     "metadata": {},
     "output_type": "display_data"
    },
    {
     "name": "stdout",
     "output_type": "stream",
     "text": [
      "\n",
      "\n"
     ]
    }
   ],
   "source": [
    "#hyperparams\n",
    "init_mu = 0\n",
    "init_sigma = 0.1\n",
    "latent_dim = 200\n",
    "n_epochs = 20\n",
    "gamma = 0.007\n",
    "lamb_bias = 0.02\n",
    "lamb_latent = 0.02\n",
    "\n",
    "\n",
    "#variables\n",
    "bu = np.zeros(user_item_matrix.shape[0])\n",
    "bi = np.zeros(user_item_matrix.shape[1])\n",
    "pu = np.random.normal(init_mu, init_sigma, (user_item_matrix.shape[0], latent_dim))\n",
    "qi = np.random.normal(init_mu, init_sigma, (user_item_matrix.shape[1], latent_dim))\n",
    "yj = np.random.normal(init_mu, init_sigma, (user_item_matrix.shape[1], latent_dim))\n",
    "mu = user_item_matrix.mean().mean()\n",
    "\n",
    "\n",
    "# algorithm\n",
    "for epoch in tqdm(range(n_epochs)):\n",
    "    for ii, i in tqdm(enumerate(user_item_matrix.columns.values)):\n",
    "        for uu, u in enumerate(user_item_matrix[~user_item_matrix[i].isna()].index.values):\n",
    "            r = user_item_matrix[i].loc[u]\n",
    "            \n",
    "            wt = np.sqrt(R_u[u].shape[0])\n",
    "            implicit_fbck = np.sum(yj[R_u_idx[u], :])/wt\n",
    "            err = r - (mu + bu[uu] + bi[ii] + np.dot(qi[ii, :].T, pu[uu,:] + implicit_fbck))\n",
    "            \n",
    "            bu[uu] += gamma*(err-lamb_bias*bu[uu])\n",
    "            bi[ii] += gamma*(err-lamb_bias*bi[ii])\n",
    "            \n",
    "            qi[ii,:] += gamma*(err*(pu[uu,:] + implicit_fbck) - lamb_latent*qi[ii,:])\n",
    "            pu[uu,:] += gamma*(err*qi[ii,:] - lamb_latent*pu[uu,:])\n",
    "            yj[ii,:] += gamma*(err/wt*qi[ii,:] - lamb_latent*yj[ii,:])"
   ]
  },
  {
   "cell_type": "code",
   "execution_count": 86,
   "metadata": {},
   "outputs": [],
   "source": [
    "np.save('saved/svdpp/bu.npy', bu)\n",
    "np.save('saved/svdpp/bu.npy', bi)\n",
    "np.save('saved/svdpp/bu.npy', pu)\n",
    "np.save('saved/svdpp/bu.npy', qi)\n",
    "np.save('saved/svdpp/bu.npy', yj)\n",
    "np.save('saved/svdpp/bu.npy', mu)"
   ]
  },
  {
   "cell_type": "code",
   "execution_count": 76,
   "metadata": {},
   "outputs": [
    {
     "data": {
      "text/plain": [
       "222.0"
      ]
     },
     "execution_count": 76,
     "metadata": {},
     "output_type": "execute_result"
    }
   ],
   "source": [
    "def predict(u, i):\n",
    "    uu = np.where(user_item_matrix.index.values == u)[0]\n",
    "    ii = np.where(user_item_matrix.columns.values == i)[0]\n",
    "    \n",
    "    wt = np.sqrt(R_u[u].shape[0])\n",
    "    implicit_fbck = np.sum(yj[R_u[u]])/wt\n",
    "    return mu + bi[ii] + bu[uu] + np.dot(qi[ii, :].T, pu[uu,:]+implicit_fbck)"
   ]
  },
  {
   "cell_type": "code",
   "execution_count": 82,
   "metadata": {},
   "outputs": [
    {
     "data": {
      "text/plain": [
       "array([ True, False, False, ..., False, False, False])"
      ]
     },
     "execution_count": 82,
     "metadata": {},
     "output_type": "execute_result"
    }
   ],
   "source": []
  },
  {
   "cell_type": "code",
   "execution_count": null,
   "metadata": {},
   "outputs": [],
   "source": []
  }
 ],
 "metadata": {
  "kernelspec": {
   "display_name": "Python 3",
   "language": "python",
   "name": "python3"
  },
  "language_info": {
   "codemirror_mode": {
    "name": "ipython",
    "version": 3
   },
   "file_extension": ".py",
   "mimetype": "text/x-python",
   "name": "python",
   "nbconvert_exporter": "python",
   "pygments_lexer": "ipython3",
   "version": "3.7.3"
  }
 },
 "nbformat": 4,
 "nbformat_minor": 2
}
